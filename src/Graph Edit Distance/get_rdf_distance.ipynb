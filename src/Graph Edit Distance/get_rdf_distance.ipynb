{
 "cells": [
  {
   "cell_type": "code",
   "execution_count": 1,
   "metadata": {},
   "outputs": [
    {
     "name": "stderr",
     "output_type": "stream",
     "text": [
      "<frozen importlib._bootstrap>:219: UserWarning: To obtain optimal results install the Cython 'munkres' module at  https://github.com/jfrelinger/cython-munkres-wrapper\n"
     ]
    }
   ],
   "source": [
    "import rdflib\n",
    "from rdflib.extras.external_graph_libs import rdflib_to_networkx_multidigraph\n",
    "import networkx as nx\n",
    "import matplotlib.pyplot as plt\n",
    "import gmatch4py as gm"
   ]
  },
  {
   "cell_type": "code",
   "execution_count": 41,
   "metadata": {},
   "outputs": [],
   "source": [
    "folder = '../data/test/'"
   ]
  },
  {
   "cell_type": "code",
   "execution_count": 42,
   "metadata": {},
   "outputs": [],
   "source": [
    "def draw_graph(url):\n",
    "    g1 = rdflib.Graph()\n",
    "    result = g1.parse(location=url)\n",
    "    G1 = rdflib_to_networkx_multidigraph(result)\n",
    "\n",
    "    # Plot Networkx instance of RDF Graph\n",
    "    pos = nx.spring_layout(G1, scale=2)\n",
    "    edge_labels = nx.get_edge_attributes(G1, 'r')\n",
    "#     nx.draw_networkx_edge_labels(G1, pos, labels=edge_labels)\n",
    "#     nx.draw(G1, with_labels=True)\n",
    "    return G1"
   ]
  },
  {
   "cell_type": "code",
   "execution_count": 43,
   "metadata": {},
   "outputs": [],
   "source": [
    "index = 4"
   ]
  },
  {
   "cell_type": "code",
   "execution_count": 44,
   "metadata": {},
   "outputs": [
    {
     "name": "stdout",
     "output_type": "stream",
     "text": [
      "../data/test/pair4/ref.txt\n"
     ]
    }
   ],
   "source": [
    "ref_url = folder + 'pair' + str(index) + '/ref.txt'\n",
    "print(ref_url)\n",
    "ref_graph = draw_graph(ref_url)"
   ]
  },
  {
   "cell_type": "code",
   "execution_count": 45,
   "metadata": {},
   "outputs": [
    {
     "name": "stdout",
     "output_type": "stream",
     "text": [
      "../data/test/pair4/hypo.txt\n"
     ]
    }
   ],
   "source": [
    "hypo_url = folder + 'pair' + str(index) + '/hypo.txt'\n",
    "print(hypo_url)\n",
    "hypo_graph = draw_graph(hypo_url)"
   ]
  },
  {
   "cell_type": "code",
   "execution_count": 46,
   "metadata": {},
   "outputs": [],
   "source": [
    "folder = '../data/test/'\n",
    "def get_rdf_distance(index):\n",
    "    '''\n",
    "    get rdf xml format here using perhaps api or something\n",
    "    '''\n",
    "\n",
    "    url1 = folder + 'pair' + str(index) + '/ref.txt'\n",
    "    g1 = rdflib.Graph()\n",
    "    result = g1.parse(location=url1)\n",
    "    G1 = draw_graph(url1)\n",
    "\n",
    "\n",
    "    url2 = folder + 'pair' + str(index) + '/hypo.txt'\n",
    "    g2 = rdflib.Graph()\n",
    "    result = g2.parse(location=url2)\n",
    "    G2 = draw_graph(url2)\n",
    "    \n",
    "    url3 = folder + 'pair' + str(index) + '/pair.txt'\n",
    "\n",
    "    f = open (url3)\n",
    "    print(f.readlines())\n",
    "\n",
    "\n",
    "    ged=gm.GraphEditDistance(1,1,1,1) # all edit costs are equal to 1\n",
    "    result=ged.compare([G1,G2],None)\n",
    "#     print ('sim: ' + str(ged.similarity(result)[0][1]))\n",
    "#     print ('dist: ' + str(ged.distance(result)[0][1]))\n",
    "\n",
    "    score = ged.similarity(result)[0][1]\n",
    "    score = format(score, '.4f')\n",
    "    print(score)\n",
    "    return score"
   ]
  },
  {
   "cell_type": "code",
   "execution_count": 47,
   "metadata": {},
   "outputs": [
    {
     "name": "stdout",
     "output_type": "stream",
     "text": [
      "['An experimental drug is one that has not received approval by the U.S. Food and Drug Administration (FDA).\\n', 'An experimental drug is one which has not been approved by the United States Food and Drug Administration (FDA).\\n']\n",
      "0.0874\n"
     ]
    },
    {
     "data": {
      "text/plain": [
       "'0.0874'"
      ]
     },
     "execution_count": 47,
     "metadata": {},
     "output_type": "execute_result"
    }
   ],
   "source": [
    "get_rdf_distance(3)"
   ]
  },
  {
   "cell_type": "code",
   "execution_count": 49,
   "metadata": {},
   "outputs": [
    {
     "name": "stdout",
     "output_type": "stream",
     "text": [
      "['PRESIDENT OF INDIA SENDS HIS GREETINGS TO ALL RANKS OF THE BSF ON ITS RAISING DAY, Rashtrapati Bhavan : 01.12.2014\\n', 'The President congratulated all its personnel on the establishment day of the Border Security Force, Rashtrapati Bhavan: 01.12.2014\\n']\n",
      "0.0000\n",
      "['The President of India, Shri Pranab Mukherjee has extended his greetings and felicitations to all ranks of the Border Security Force on its 49th Raising Day.\\n', 'The President of India, Shri Pranab Mukherjee, greeted and congratulated all its personnel on the 49th Foundation Day of the Border Security Force.\\n']\n",
      "0.0000\n",
      "['There is a cat on the mat.\\n', 'There is a mat on the cat.\\n']\n",
      "0.0000\n",
      "['You are being asked to participate in this study because you have been diagnosed with alopecia (hair loss) of the scalp.\\n', 'You have been asked to participate in the study because you have been diagnosed with alopecia (hair loss) of the scalp.\\n']\n",
      "0.0095\n",
      "['The purpose of this study is to determine if an experimental “study drug,” a patch containing capsaicin, is safe and effective when given to people with your condition. \\n', 'The purpose of this study is to determine whether the experimental blood of the study, a patch which contains capsaicin, is safe and efficacious when administered to persons suffering from your condition. \\n']\n",
      "0.0000\n",
      "['An experimental drug is one that has not received approval by the U.S. Food and Drug Administration (FDA).\\n', 'An experimental drug is one which has not been approved by the United States Food and Drug Administration (FDA).\\n']\n",
      "0.0874\n",
      "['Capsaicin is a man- made version of a peppery substance found in chili peppers. \\n', 'Capsaicin is a synthetic version of a spicy substance which is to be found in hot peppers. \\n']\n",
      "0.0000\n",
      "['It is also unknown if any hair growth that results from treatment will be temporary or permanent.\\n', 'Nor is it known whether the hair growth which may be produced as a result of the treatment will be temporary or permanent.\\n']\n",
      "0.0000\n",
      "['If you qualify for the study, you will come in for two visits. \\n', 'If you qualify for the study, you will come to two consultations. \\n']\n",
      "0.0976\n"
     ]
    }
   ],
   "source": [
    "fw = open('rdf_ged_score.txt', 'w')\n",
    "\n",
    "for index in [0, 1, 10, 11, 12, 13, 14, 17, 18]:\n",
    "    score = get_rdf_distance(index)\n",
    "    fw.write(str(score)+'\\n')\n",
    "\n",
    "fw.close()"
   ]
  },
  {
   "cell_type": "code",
   "execution_count": null,
   "metadata": {},
   "outputs": [],
   "source": []
  }
 ],
 "metadata": {
  "kernelspec": {
   "display_name": "Python 3",
   "language": "python",
   "name": "python3"
  },
  "language_info": {
   "codemirror_mode": {
    "name": "ipython",
    "version": 3
   },
   "file_extension": ".py",
   "mimetype": "text/x-python",
   "name": "python",
   "nbconvert_exporter": "python",
   "pygments_lexer": "ipython3",
   "version": "3.8.2"
  }
 },
 "nbformat": 4,
 "nbformat_minor": 4
}
