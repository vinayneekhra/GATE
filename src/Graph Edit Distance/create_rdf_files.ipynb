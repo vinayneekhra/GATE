{
 "cells": [
  {
   "cell_type": "markdown",
   "metadata": {},
   "source": [
    "read pairs.txt\n",
    "create folders\n",
    "write pair.txt in separate files"
   ]
  },
  {
   "cell_type": "code",
   "execution_count": 11,
   "metadata": {},
   "outputs": [],
   "source": [
    "import os"
   ]
  },
  {
   "cell_type": "code",
   "execution_count": 1,
   "metadata": {},
   "outputs": [],
   "source": [
    "f = open ('../data/pairs.txt')"
   ]
  },
  {
   "cell_type": "code",
   "execution_count": 2,
   "metadata": {},
   "outputs": [],
   "source": [
    "lines = f.readlines()"
   ]
  },
  {
   "cell_type": "code",
   "execution_count": 4,
   "metadata": {},
   "outputs": [],
   "source": [
    "# form pairs\n",
    "pairs = []\n",
    "i = 0\n",
    "while i < len(lines):\n",
    "    pairs.append([lines[i], lines[i+1]])\n",
    "    i += 2"
   ]
  },
  {
   "cell_type": "code",
   "execution_count": 7,
   "metadata": {},
   "outputs": [
    {
     "data": {
      "text/plain": [
       "'PRESIDENT OF INDIA SENDS HIS GREETINGS TO ALL RANKS OF THE BSF ON ITS RAISING DAY, Rashtrapati Bhavan : 01.12.2014'"
      ]
     },
     "execution_count": 7,
     "metadata": {},
     "output_type": "execute_result"
    }
   ],
   "source": [
    "pairs[0][0].strip()"
   ]
  },
  {
   "cell_type": "code",
   "execution_count": 20,
   "metadata": {},
   "outputs": [],
   "source": [
    "def create_dir(dirName):\n",
    "    # Create target directory & all intermediate directories if don't exists\n",
    "    try:\n",
    "        os.makedirs(dirName)    \n",
    "#         print(\"Directory \" , dirName ,  \" Created \")\n",
    "    except FileExistsError:\n",
    "        ;\n",
    "#         print(\"Directory \" , dirName ,  \" already exists\")  \n",
    "    return "
   ]
  },
  {
   "cell_type": "code",
   "execution_count": 22,
   "metadata": {},
   "outputs": [],
   "source": [
    "for i in range(len(pairs)):\n",
    "    dirName = 'temp/pair'+ str(i)\n",
    "    create_dir(dirName)\n",
    "    f = open(dirName + '/pair.txt', 'w')\n",
    "    f.write(pairs[i][0] + pairs[i][1])\n",
    "    ref = open(dirName + '/ref.txt', 'w')\n",
    "    ref.write(pairs[i][0])\n",
    "    hypo = open(dirName + '/hypo.txt', 'w')\n",
    "    hypo.write(pairs[i][1])\n",
    "    f.close()\n",
    "    ref.close()\n",
    "    hypo.close()\n",
    "    \n",
    "    "
   ]
  },
  {
   "cell_type": "code",
   "execution_count": null,
   "metadata": {},
   "outputs": [],
   "source": []
  }
 ],
 "metadata": {
  "kernelspec": {
   "display_name": "Python 3",
   "language": "python",
   "name": "python3"
  },
  "language_info": {
   "codemirror_mode": {
    "name": "ipython",
    "version": 3
   },
   "file_extension": ".py",
   "mimetype": "text/x-python",
   "name": "python",
   "nbconvert_exporter": "python",
   "pygments_lexer": "ipython3",
   "version": "3.7.5"
  }
 },
 "nbformat": 4,
 "nbformat_minor": 4
}
