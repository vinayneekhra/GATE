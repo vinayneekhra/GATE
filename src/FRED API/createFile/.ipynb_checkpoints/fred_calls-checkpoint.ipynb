{
 "cells": [
  {
   "cell_type": "code",
   "execution_count": 1,
   "metadata": {},
   "outputs": [],
   "source": [
    "f = open('../data/pairs.txt', 'r')"
   ]
  },
  {
   "cell_type": "code",
   "execution_count": 2,
   "metadata": {},
   "outputs": [],
   "source": [
    "lines = f.readlines();"
   ]
  },
  {
   "cell_type": "code",
   "execution_count": 4,
   "metadata": {},
   "outputs": [
    {
     "name": "stdout",
     "output_type": "stream",
     "text": [
      "59\n"
     ]
    }
   ],
   "source": [
    "# for line in lines:\n",
    "#     print (line)\n",
    "print (len(lines))"
   ]
  },
  {
   "cell_type": "code",
   "execution_count": 5,
   "metadata": {},
   "outputs": [],
   "source": [
    "# cd .."
   ]
  },
  {
   "cell_type": "code",
   "execution_count": 6,
   "metadata": {},
   "outputs": [
    {
     "data": {
      "text/plain": [
       "'/Users/vinay/Dropbox/Research/src/FRED API/createFile'"
      ]
     },
     "execution_count": 6,
     "metadata": {},
     "output_type": "execute_result"
    }
   ],
   "source": [
    "pwd"
   ]
  },
  {
   "cell_type": "code",
   "execution_count": 8,
   "metadata": {},
   "outputs": [],
   "source": [
    "fileList = open('list.txt', 'w')"
   ]
  },
  {
   "cell_type": "code",
   "execution_count": 9,
   "metadata": {},
   "outputs": [
    {
     "name": "stdout",
     "output_type": "stream",
     "text": [
      "0\n",
      "A man with a hard hat is dancing\n",
      "A man wearing a hard hat is dancing\n",
      "1\n",
      "A young child is riding a horse\n",
      "A child is riding a horse\n",
      "2\n",
      "A man is feeding a mouse to a snake\n",
      "The man is feeding a mouse to the snake\n",
      "3\n",
      "A woman is playing the guitar\n",
      "A man is playing guitar\n",
      "4\n",
      "A woman is playing the flute\n",
      "A man is playing a flute\n",
      "5\n",
      "A woman is cutting an onion\n",
      "A man is cutting onions\n",
      "6\n",
      "A man is erasing a chalk board\n",
      "The man is erasing the chalk board\n",
      "7\n",
      "A woman is carrying a boy\n",
      "A woman is carrying her baby\n",
      "8\n",
      "Three men are playing guitars\n",
      "Three men are on stage playing guitars\n",
      "9\n",
      "A woman peels a potato\n",
      "A woman is peeling a potato\n",
      "10\n",
      "People are playing cricket\n",
      "Men are playing cricket\n",
      "11\n",
      "A man is playing a guitar\n",
      "A man is playing a flute\n",
      "12\n",
      "The cougar is chasing the bear\n",
      "A cougar is chasing a bear\n",
      "13\n",
      "The man cut down a tree with an axe\n",
      "A man chops down a tree with an axe\n"
     ]
    }
   ],
   "source": [
    "for index in range(0,14):\n",
    "    print(index)\n",
    "    i = index*4\n",
    "    human_score = lines[i];\n",
    "    i += 1\n",
    "    hypo = lines[i]\n",
    "    i += 1\n",
    "    ref = lines[i]\n",
    "    i += 1\n",
    "    empty_line = lines[i]\n",
    "    \n",
    "    f1 = str(int(i/4)) + '_1_fredCall.py'\n",
    "    fw_1 = open(f1, 'w')\n",
    "    \n",
    "    f2 = str(int(i/4)) + '_2_fredCall.py'\n",
    "    fw_2 = open(f2, 'w')\n",
    "    \n",
    "#     fileList.write('hello\\n')\n",
    "    fileList.write(f1+'\\n')\n",
    "    fileList.write(f2+'\\n')\n",
    "    \n",
    "    files = [fw_1, fw_2]\n",
    "    texts = [hypo, ref]\n",
    "    \n",
    "    for j in [0,1]:\n",
    "        file = files[j]\n",
    "        text = texts[j].strip()\n",
    "        \n",
    "        print (text)\n",
    "        \n",
    "        file.write('import fredlib\\n')\n",
    "        file.write(\"sentence = '\"+ text + \"'\\n\")\n",
    "        file.write(\"g = fredlib.getFredGraph(sentence, 'dccde82f-f4e1-3021-811b-bd08eb420aa6', \" + \"'\" + str(int(index)) + \"_\" + str(j)+\"_output.html')\\n\")\n",
    "        file.write(\"print (g)\\n\")\n",
    "        file.close()\n",
    "\n",
    "fileList.close()"
   ]
  },
  {
   "cell_type": "code",
   "execution_count": 10,
   "metadata": {},
   "outputs": [],
   "source": [
    "f.close()\n",
    "        "
   ]
  }
 ],
 "metadata": {
  "kernelspec": {
   "display_name": "Python 3",
   "language": "python",
   "name": "python3"
  },
  "language_info": {
   "codemirror_mode": {
    "name": "ipython",
    "version": 3
   },
   "file_extension": ".py",
   "mimetype": "text/x-python",
   "name": "python",
   "nbconvert_exporter": "python",
   "pygments_lexer": "ipython3",
   "version": "3.8.2"
  }
 },
 "nbformat": 4,
 "nbformat_minor": 4
}
