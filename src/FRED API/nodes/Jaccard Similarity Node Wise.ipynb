{
 "cells": [
  {
   "cell_type": "code",
   "execution_count": 35,
   "metadata": {},
   "outputs": [],
   "source": [
    "from nltk.translate.bleu_score import sentence_bleu\n",
    "from decimal import *\n",
    "getcontext().prec = 4"
   ]
  },
  {
   "cell_type": "code",
   "execution_count": 43,
   "metadata": {},
   "outputs": [],
   "source": [
    "def jaccard_similarity(list1, list2):\n",
    "    s1 = set(list1)\n",
    "    s2 = set(list2)\n",
    "#     print(s1.intersection(s2))\n",
    "#     print(s1.union(s2))\n",
    "    score = len(s1.intersection(s2)) / len(s1.union(s2))\n",
    "    score = format(score, '.2f')\n",
    "\n",
    "    return score"
   ]
  },
  {
   "cell_type": "code",
   "execution_count": 44,
   "metadata": {},
   "outputs": [],
   "source": [
    "def get_bleu_score(pair):\n",
    "    ref = [pair[0].split()]\n",
    "    hypo = pair[1].split()\n",
    "#     print(pair[0])\n",
    "#     print(pair[1])\n",
    "    if(len(ref[0]) < 4 or len(hypo) < 4 ):\n",
    "        return\n",
    "#     reference = [['the', 'cat',\"is\",\"sitting\",\"on\",\"the\",\"mat\"]]\n",
    "#     hypo = [\"on\",'the',\"mat\",\"is\",\"a\",\"cat\"]\n",
    "    score = sentence_bleu(ref, hypo, weights = (0.5, 0.5))\n",
    "    bleu_score = format(score, '.2f')\n",
    "#     print (bleu_score)\n",
    "    return bleu_score"
   ]
  },
  {
   "cell_type": "code",
   "execution_count": 45,
   "metadata": {},
   "outputs": [
    {
     "data": {
      "text/plain": [
       "'0.33'"
      ]
     },
     "execution_count": 45,
     "metadata": {},
     "output_type": "execute_result"
    }
   ],
   "source": [
    "jaccard_similarity([1, 2, 3, 4], [1, 2, 5, 6])"
   ]
  },
  {
   "cell_type": "code",
   "execution_count": 62,
   "metadata": {},
   "outputs": [],
   "source": [
    "# get sentences\n",
    "\n",
    "fp = open('../data/pairs.txt', 'r')\n",
    "\n",
    "lines = fp.readlines()"
   ]
  },
  {
   "cell_type": "code",
   "execution_count": 84,
   "metadata": {},
   "outputs": [
    {
     "name": "stdout",
     "output_type": "stream",
     "text": [
      "----------------------------------------\n",
      "Hypo:\n",
      "A man with a hard hat is dancing\n",
      "Ref:\n",
      "A man wearing a hard hat is dancing\n",
      "\n",
      "Gold score:\t1.00\n",
      "RDF score:\t0.81\n",
      "BLEU score:\t0.79\n",
      "----------------------------------------\n",
      "Hypo:\n",
      "A young child is riding a horse\n",
      "Ref:\n",
      "A child is riding a horse\n",
      "\n",
      "Gold score:\t0.95\n",
      "RDF score:\t0.71\n",
      "BLEU score:\t0.76\n",
      "----------------------------------------\n",
      "Hypo:\n",
      "A man is feeding a mouse to a snake\n",
      "Ref:\n",
      "The man is feeding a mouse to the snake\n",
      "\n",
      "Gold score:\t1.00\n",
      "RDF score:\t0.59\n",
      "BLEU score:\t0.70\n",
      "----------------------------------------\n",
      "Hypo:\n",
      "A woman is playing the guitar\n",
      "Ref:\n",
      "A man is playing guitar\n",
      "\n",
      "Gold score:\t0.48\n",
      "RDF score:\t0.50\n",
      "BLEU score:\t0.37\n",
      "----------------------------------------\n",
      "Hypo:\n",
      "A woman is playing the flute\n",
      "Ref:\n",
      "A man is playing a flute\n",
      "\n",
      "Gold score:\t0.55\n",
      "RDF score:\t0.58\n",
      "BLEU score:\t0.37\n",
      "----------------------------------------\n",
      "Hypo:\n",
      "A woman is cutting an onion\n",
      "Ref:\n",
      "A man is cutting onions\n",
      "\n",
      "Gold score:\t0.52\n",
      "RDF score:\t0.46\n",
      "BLEU score:\t0.32\n",
      "----------------------------------------\n",
      "Hypo:\n",
      "A man is erasing a chalk board\n",
      "Ref:\n",
      "The man is erasing the chalk board\n",
      "\n",
      "Gold score:\t1.00\n",
      "RDF score:\t0.65\n",
      "BLEU score:\t0.60\n",
      "----------------------------------------\n",
      "Hypo:\n",
      "A woman is carrying a boy\n",
      "Ref:\n",
      "A woman is carrying her baby\n",
      "\n",
      "Gold score:\t0.47\n",
      "RDF score:\t0.62\n",
      "BLEU score:\t0.63\n",
      "----------------------------------------\n",
      "Hypo:\n",
      "Three men are playing guitars\n",
      "Ref:\n",
      "Three men are on stage playing guitars\n",
      "\n",
      "Gold score:\t0.75\n",
      "RDF score:\t0.45\n",
      "BLEU score:\t0.60\n",
      "----------------------------------------\n",
      "Hypo:\n",
      "A woman peels a potato\n",
      "Ref:\n",
      "A woman is peeling a potato\n",
      "\n",
      "Gold score:\t1.00\n",
      "RDF score:\t1.00\n",
      "BLEU score:\t0.52\n",
      "----------------------------------------\n",
      "Hypo:\n",
      "People are playing cricket\n",
      "Ref:\n",
      "Men are playing cricket\n",
      "\n",
      "Gold score:\t0.64\n",
      "RDF score:\t0.64\n",
      "BLEU score:\t0.71\n",
      "----------------------------------------\n",
      "Hypo:\n",
      "A man is playing a guitar\n",
      "Ref:\n",
      "A man is playing a flute\n",
      "\n",
      "Gold score:\t0.32\n",
      "RDF score:\t0.64\n",
      "BLEU score:\t0.82\n",
      "----------------------------------------\n",
      "Hypo:\n",
      "The cougar is chasing the bear\n",
      "Ref:\n",
      "A cougar is chasing a bear\n",
      "\n",
      "Gold score:\t1.00\n",
      "RDF score:\t0.82\n",
      "BLEU score:\t0.52\n",
      "----------------------------------------\n",
      "Hypo:\n",
      "The man cut down a tree with an axe\n",
      "Ref:\n",
      "A man chops down a tree with an axe\n",
      "\n",
      "Gold score:\t1.00\n",
      "RDF score:\t0.40\n",
      "BLEU score:\t0.70\n",
      "----------------------------------------\n",
      "Hypo:\n",
      "The man is playing the guitar\n",
      "Ref:\n",
      "A man is playing a guitar.\n",
      "\n",
      "Gold score:\t0.98\n",
      "RDF score:\t0.55\n",
      "BLEU score:\t0.45\n"
     ]
    }
   ],
   "source": [
    "golds = []\n",
    "bleus = []\n",
    "rdfs = []\n",
    "\n",
    "# read files\n",
    "index = 0\n",
    "for i in range(15):\n",
    "#     create the node lists\n",
    "    print('-'*40)\n",
    "    lists = {}\n",
    "    hypo = []\n",
    "    ref = []\n",
    "    for j in range(2):\n",
    "        prefix = str(i) + \"_\" + str(j)\n",
    "        file = prefix + \"_nodes.txt\"\n",
    "        f = open(file, 'r')\n",
    "        \n",
    "        lists[j] = f.readlines()\n",
    "\n",
    "    hypo_nodes = lists[0]\n",
    "    ref_nodes = lists[1]\n",
    "    \n",
    "    gold_score = float(lines[index].strip())/5.0\n",
    "    golds.append(gold_score)\n",
    "    gold_score = format(gold_score, '.2f')\n",
    "\n",
    "#     print('Gold score ' + lines[index])\n",
    "    index += 1\n",
    "    hypo = lines[index].strip()\n",
    "    print('Hypo:\\n' + hypo)\n",
    "    index += 1\n",
    "    ref = lines[index].strip()\n",
    "    print('Ref:\\n' + ref)\n",
    "    index += 1\n",
    "    #remove the extra line\n",
    "    index +=1\n",
    "    \n",
    "    print('\\nGold score:\\t' + str(gold_score))\n",
    "\n",
    "    rdf_score = jaccard_similarity(hypo_nodes, ref_nodes)\n",
    "    rdfs.append(float(rdf_score))\n",
    "    print('RDF score:\\t' + str(rdf_score))\n",
    "    \n",
    "    bleu_score = get_bleu_score([hypo, ref])\n",
    "    bleus.append(float(bleu_score))\n",
    "    print('BLEU score:\\t' + str(bleu_score))\n",
    "    "
   ]
  },
  {
   "cell_type": "code",
   "execution_count": 85,
   "metadata": {},
   "outputs": [
    {
     "data": {
      "text/plain": [
       "[1.0,\n",
       " 0.95,\n",
       " 1.0,\n",
       " 0.48,\n",
       " 0.55,\n",
       " 0.523,\n",
       " 1.0,\n",
       " 0.4666,\n",
       " 0.75,\n",
       " 1.0,\n",
       " 0.64,\n",
       " 0.3166,\n",
       " 1.0,\n",
       " 1.0,\n",
       " 0.9818]"
      ]
     },
     "execution_count": 85,
     "metadata": {},
     "output_type": "execute_result"
    }
   ],
   "source": [
    "golds"
   ]
  },
  {
   "cell_type": "code",
   "execution_count": 86,
   "metadata": {},
   "outputs": [
    {
     "data": {
      "text/plain": [
       "[0.81,\n",
       " 0.71,\n",
       " 0.59,\n",
       " 0.5,\n",
       " 0.58,\n",
       " 0.46,\n",
       " 0.65,\n",
       " 0.62,\n",
       " 0.45,\n",
       " 1.0,\n",
       " 0.64,\n",
       " 0.64,\n",
       " 0.82,\n",
       " 0.4,\n",
       " 0.55]"
      ]
     },
     "execution_count": 86,
     "metadata": {},
     "output_type": "execute_result"
    }
   ],
   "source": [
    "rdfs"
   ]
  },
  {
   "cell_type": "code",
   "execution_count": 87,
   "metadata": {},
   "outputs": [
    {
     "data": {
      "text/plain": [
       "[0.79,\n",
       " 0.76,\n",
       " 0.7,\n",
       " 0.37,\n",
       " 0.37,\n",
       " 0.32,\n",
       " 0.6,\n",
       " 0.63,\n",
       " 0.6,\n",
       " 0.52,\n",
       " 0.71,\n",
       " 0.82,\n",
       " 0.52,\n",
       " 0.7,\n",
       " 0.45]"
      ]
     },
     "execution_count": 87,
     "metadata": {},
     "output_type": "execute_result"
    }
   ],
   "source": [
    "bleus"
   ]
  },
  {
   "cell_type": "code",
   "execution_count": 90,
   "metadata": {},
   "outputs": [
    {
     "name": "stdout",
     "output_type": "stream",
     "text": [
      "Pearsons correlation between Gold and RDFs: 0.357\n",
      "Pearsons correlation between Gold and BLEUs: 0.200\n"
     ]
    }
   ],
   "source": [
    "\n",
    "# Import those libraries \n",
    "# import pandas as pd \n",
    "from scipy.stats import pearsonr \n",
    "  \n",
    "# Import your data into Python \n",
    "# df = pd.read_csv(\"Auto.csv\") \n",
    "  \n",
    "# Convert dataframe into series \n",
    "# list1 = df['weight'] \n",
    "# list2 = df['mpg'] \n",
    "  \n",
    "# print(type(golds[0]))\n",
    "# print(type(rdfs[0]))\n",
    "# print(type(bleus[0]))\n",
    "    \n",
    "# Apply the pearsonr() \n",
    "corr, _ = pearsonr(golds, rdfs) \n",
    "print('Pearsons correlation between Gold and RDFs: %.3f' % corr) \n",
    "\n",
    "\n",
    "# Apply the pearsonr() \n",
    "corr, _ = pearsonr(golds, bleus) \n",
    "print('Pearsons correlation between Gold and BLEUs: %.3f' % corr) \n",
    "\n",
    "\n",
    "# This code is contributed by Amiya Rout \n"
   ]
  }
 ],
 "metadata": {
  "kernelspec": {
   "display_name": "Python 3",
   "language": "python",
   "name": "python3"
  },
  "language_info": {
   "codemirror_mode": {
    "name": "ipython",
    "version": 3
   },
   "file_extension": ".py",
   "mimetype": "text/x-python",
   "name": "python",
   "nbconvert_exporter": "python",
   "pygments_lexer": "ipython3",
   "version": "3.7.5"
  }
 },
 "nbformat": 4,
 "nbformat_minor": 4
}
